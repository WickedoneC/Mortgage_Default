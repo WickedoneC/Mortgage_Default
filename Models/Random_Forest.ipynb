{
 "cells": [
  {
   "cell_type": "code",
   "execution_count": 2,
   "metadata": {},
   "outputs": [],
   "source": [
    "import pandas as pd\n",
    "import numpy as np\n",
    "np.random.seed(0)\n",
    "import matplotlib.pyplot as plt\n",
    "from sklearn.model_selection import train_test_split\n",
    "from sklearn.metrics import accuracy_score, confusion_matrix, classification_report\n",
    "from sklearn.tree import DecisionTreeClassifier\n",
    "from sklearn.ensemble import BaggingClassifier, RandomForestClassifier"
   ]
  },
  {
   "cell_type": "code",
   "execution_count": 3,
   "metadata": {},
   "outputs": [],
   "source": [
    "df = pd.read_csv('/Users/wickedbear/Coding/Projects/Mortgage_Default/Mortgage_Default/Data_and_Cleaning/revised_mort_data.csv')"
   ]
  },
  {
   "cell_type": "code",
   "execution_count": 4,
   "metadata": {},
   "outputs": [],
   "source": [
    "cols_drop = ['Unnamed: 0', 'id', 'default_time', 'payoff_time', 'ratio_paid']"
   ]
  },
  {
   "cell_type": "code",
   "execution_count": 5,
   "metadata": {},
   "outputs": [],
   "source": [
    "df.drop(columns=cols_drop, inplace=True)"
   ]
  },
  {
   "cell_type": "code",
   "execution_count": 6,
   "metadata": {},
   "outputs": [
    {
     "data": {
      "text/html": [
       "<div>\n",
       "<style scoped>\n",
       "    .dataframe tbody tr th:only-of-type {\n",
       "        vertical-align: middle;\n",
       "    }\n",
       "\n",
       "    .dataframe tbody tr th {\n",
       "        vertical-align: top;\n",
       "    }\n",
       "\n",
       "    .dataframe thead th {\n",
       "        text-align: right;\n",
       "    }\n",
       "</style>\n",
       "<table border=\"1\" class=\"dataframe\">\n",
       "  <thead>\n",
       "    <tr style=\"text-align: right;\">\n",
       "      <th></th>\n",
       "      <th>balance_time</th>\n",
       "      <th>LTV_time</th>\n",
       "      <th>interest_rate_time</th>\n",
       "      <th>hpi_time</th>\n",
       "      <th>gdp_time</th>\n",
       "      <th>uer_time</th>\n",
       "      <th>REtype_CO_orig_time</th>\n",
       "      <th>REtype_PU_orig_time</th>\n",
       "      <th>REtype_SF_orig_time</th>\n",
       "      <th>investor_orig_time</th>\n",
       "      <th>balance_orig_time</th>\n",
       "      <th>FICO_orig_time</th>\n",
       "      <th>LTV_orig_time</th>\n",
       "      <th>Interest_Rate_orig_time</th>\n",
       "      <th>hpi_orig_time</th>\n",
       "      <th>status_time</th>\n",
       "    </tr>\n",
       "  </thead>\n",
       "  <tbody>\n",
       "    <tr>\n",
       "      <td>0</td>\n",
       "      <td>41303.42</td>\n",
       "      <td>24.498336</td>\n",
       "      <td>9.200</td>\n",
       "      <td>226.29</td>\n",
       "      <td>2.899137</td>\n",
       "      <td>4.7</td>\n",
       "      <td>0</td>\n",
       "      <td>0</td>\n",
       "      <td>1</td>\n",
       "      <td>0</td>\n",
       "      <td>45000.0</td>\n",
       "      <td>715</td>\n",
       "      <td>69.4</td>\n",
       "      <td>9.200</td>\n",
       "      <td>87.03</td>\n",
       "      <td>0</td>\n",
       "    </tr>\n",
       "    <tr>\n",
       "      <td>1</td>\n",
       "      <td>105826.38</td>\n",
       "      <td>65.231343</td>\n",
       "      <td>7.680</td>\n",
       "      <td>226.29</td>\n",
       "      <td>2.899137</td>\n",
       "      <td>4.7</td>\n",
       "      <td>0</td>\n",
       "      <td>0</td>\n",
       "      <td>1</td>\n",
       "      <td>0</td>\n",
       "      <td>107200.0</td>\n",
       "      <td>558</td>\n",
       "      <td>80.0</td>\n",
       "      <td>7.680</td>\n",
       "      <td>186.91</td>\n",
       "      <td>1</td>\n",
       "    </tr>\n",
       "    <tr>\n",
       "      <td>2</td>\n",
       "      <td>44866.18</td>\n",
       "      <td>30.551659</td>\n",
       "      <td>10.500</td>\n",
       "      <td>226.29</td>\n",
       "      <td>2.899137</td>\n",
       "      <td>4.7</td>\n",
       "      <td>0</td>\n",
       "      <td>0</td>\n",
       "      <td>1</td>\n",
       "      <td>0</td>\n",
       "      <td>48600.0</td>\n",
       "      <td>680</td>\n",
       "      <td>83.6</td>\n",
       "      <td>8.750</td>\n",
       "      <td>89.58</td>\n",
       "      <td>1</td>\n",
       "    </tr>\n",
       "    <tr>\n",
       "      <td>3</td>\n",
       "      <td>52295.07</td>\n",
       "      <td>65.446133</td>\n",
       "      <td>9.155</td>\n",
       "      <td>226.29</td>\n",
       "      <td>2.899137</td>\n",
       "      <td>4.7</td>\n",
       "      <td>0</td>\n",
       "      <td>0</td>\n",
       "      <td>1</td>\n",
       "      <td>0</td>\n",
       "      <td>52800.0</td>\n",
       "      <td>527</td>\n",
       "      <td>80.0</td>\n",
       "      <td>9.155</td>\n",
       "      <td>186.91</td>\n",
       "      <td>1</td>\n",
       "    </tr>\n",
       "    <tr>\n",
       "      <td>4</td>\n",
       "      <td>209058.33</td>\n",
       "      <td>66.733446</td>\n",
       "      <td>6.580</td>\n",
       "      <td>226.29</td>\n",
       "      <td>2.899137</td>\n",
       "      <td>4.7</td>\n",
       "      <td>0</td>\n",
       "      <td>0</td>\n",
       "      <td>1</td>\n",
       "      <td>0</td>\n",
       "      <td>212000.0</td>\n",
       "      <td>670</td>\n",
       "      <td>80.0</td>\n",
       "      <td>6.580</td>\n",
       "      <td>191.42</td>\n",
       "      <td>0</td>\n",
       "    </tr>\n",
       "    <tr>\n",
       "      <td>...</td>\n",
       "      <td>...</td>\n",
       "      <td>...</td>\n",
       "      <td>...</td>\n",
       "      <td>...</td>\n",
       "      <td>...</td>\n",
       "      <td>...</td>\n",
       "      <td>...</td>\n",
       "      <td>...</td>\n",
       "      <td>...</td>\n",
       "      <td>...</td>\n",
       "      <td>...</td>\n",
       "      <td>...</td>\n",
       "      <td>...</td>\n",
       "      <td>...</td>\n",
       "      <td>...</td>\n",
       "      <td>...</td>\n",
       "    </tr>\n",
       "    <tr>\n",
       "      <td>38053</td>\n",
       "      <td>93568.44</td>\n",
       "      <td>101.865855</td>\n",
       "      <td>6.875</td>\n",
       "      <td>161.13</td>\n",
       "      <td>1.081049</td>\n",
       "      <td>8.0</td>\n",
       "      <td>0</td>\n",
       "      <td>0</td>\n",
       "      <td>1</td>\n",
       "      <td>1</td>\n",
       "      <td>103200.0</td>\n",
       "      <td>726</td>\n",
       "      <td>80.0</td>\n",
       "      <td>6.875</td>\n",
       "      <td>226.29</td>\n",
       "      <td>0</td>\n",
       "    </tr>\n",
       "    <tr>\n",
       "      <td>38054</td>\n",
       "      <td>78004.35</td>\n",
       "      <td>101.199851</td>\n",
       "      <td>7.500</td>\n",
       "      <td>161.13</td>\n",
       "      <td>1.081049</td>\n",
       "      <td>8.0</td>\n",
       "      <td>0</td>\n",
       "      <td>0</td>\n",
       "      <td>1</td>\n",
       "      <td>1</td>\n",
       "      <td>86600.0</td>\n",
       "      <td>672</td>\n",
       "      <td>80.0</td>\n",
       "      <td>7.500</td>\n",
       "      <td>226.29</td>\n",
       "      <td>1</td>\n",
       "    </tr>\n",
       "    <tr>\n",
       "      <td>38055</td>\n",
       "      <td>180673.24</td>\n",
       "      <td>103.306966</td>\n",
       "      <td>7.500</td>\n",
       "      <td>161.13</td>\n",
       "      <td>1.081049</td>\n",
       "      <td>8.0</td>\n",
       "      <td>0</td>\n",
       "      <td>0</td>\n",
       "      <td>1</td>\n",
       "      <td>0</td>\n",
       "      <td>196000.0</td>\n",
       "      <td>708</td>\n",
       "      <td>79.8</td>\n",
       "      <td>7.500</td>\n",
       "      <td>226.29</td>\n",
       "      <td>0</td>\n",
       "    </tr>\n",
       "    <tr>\n",
       "      <td>38056</td>\n",
       "      <td>199721.99</td>\n",
       "      <td>62.251083</td>\n",
       "      <td>6.500</td>\n",
       "      <td>161.13</td>\n",
       "      <td>1.081049</td>\n",
       "      <td>8.0</td>\n",
       "      <td>0</td>\n",
       "      <td>0</td>\n",
       "      <td>0</td>\n",
       "      <td>0</td>\n",
       "      <td>232000.0</td>\n",
       "      <td>665</td>\n",
       "      <td>74.8</td>\n",
       "      <td>6.500</td>\n",
       "      <td>155.77</td>\n",
       "      <td>1</td>\n",
       "    </tr>\n",
       "    <tr>\n",
       "      <td>38057</td>\n",
       "      <td>128637.32</td>\n",
       "      <td>49.398391</td>\n",
       "      <td>6.400</td>\n",
       "      <td>161.13</td>\n",
       "      <td>1.081049</td>\n",
       "      <td>8.0</td>\n",
       "      <td>0</td>\n",
       "      <td>0</td>\n",
       "      <td>1</td>\n",
       "      <td>0</td>\n",
       "      <td>150000.0</td>\n",
       "      <td>588</td>\n",
       "      <td>62.0</td>\n",
       "      <td>6.400</td>\n",
       "      <td>149.70</td>\n",
       "      <td>1</td>\n",
       "    </tr>\n",
       "  </tbody>\n",
       "</table>\n",
       "<p>38058 rows × 16 columns</p>\n",
       "</div>"
      ],
      "text/plain": [
       "       balance_time    LTV_time  interest_rate_time  hpi_time  gdp_time  \\\n",
       "0          41303.42   24.498336               9.200    226.29  2.899137   \n",
       "1         105826.38   65.231343               7.680    226.29  2.899137   \n",
       "2          44866.18   30.551659              10.500    226.29  2.899137   \n",
       "3          52295.07   65.446133               9.155    226.29  2.899137   \n",
       "4         209058.33   66.733446               6.580    226.29  2.899137   \n",
       "...             ...         ...                 ...       ...       ...   \n",
       "38053      93568.44  101.865855               6.875    161.13  1.081049   \n",
       "38054      78004.35  101.199851               7.500    161.13  1.081049   \n",
       "38055     180673.24  103.306966               7.500    161.13  1.081049   \n",
       "38056     199721.99   62.251083               6.500    161.13  1.081049   \n",
       "38057     128637.32   49.398391               6.400    161.13  1.081049   \n",
       "\n",
       "       uer_time  REtype_CO_orig_time  REtype_PU_orig_time  \\\n",
       "0           4.7                    0                    0   \n",
       "1           4.7                    0                    0   \n",
       "2           4.7                    0                    0   \n",
       "3           4.7                    0                    0   \n",
       "4           4.7                    0                    0   \n",
       "...         ...                  ...                  ...   \n",
       "38053       8.0                    0                    0   \n",
       "38054       8.0                    0                    0   \n",
       "38055       8.0                    0                    0   \n",
       "38056       8.0                    0                    0   \n",
       "38057       8.0                    0                    0   \n",
       "\n",
       "       REtype_SF_orig_time  investor_orig_time  balance_orig_time  \\\n",
       "0                        1                   0            45000.0   \n",
       "1                        1                   0           107200.0   \n",
       "2                        1                   0            48600.0   \n",
       "3                        1                   0            52800.0   \n",
       "4                        1                   0           212000.0   \n",
       "...                    ...                 ...                ...   \n",
       "38053                    1                   1           103200.0   \n",
       "38054                    1                   1            86600.0   \n",
       "38055                    1                   0           196000.0   \n",
       "38056                    0                   0           232000.0   \n",
       "38057                    1                   0           150000.0   \n",
       "\n",
       "       FICO_orig_time  LTV_orig_time  Interest_Rate_orig_time  hpi_orig_time  \\\n",
       "0                 715           69.4                    9.200          87.03   \n",
       "1                 558           80.0                    7.680         186.91   \n",
       "2                 680           83.6                    8.750          89.58   \n",
       "3                 527           80.0                    9.155         186.91   \n",
       "4                 670           80.0                    6.580         191.42   \n",
       "...               ...            ...                      ...            ...   \n",
       "38053             726           80.0                    6.875         226.29   \n",
       "38054             672           80.0                    7.500         226.29   \n",
       "38055             708           79.8                    7.500         226.29   \n",
       "38056             665           74.8                    6.500         155.77   \n",
       "38057             588           62.0                    6.400         149.70   \n",
       "\n",
       "       status_time  \n",
       "0                0  \n",
       "1                1  \n",
       "2                1  \n",
       "3                1  \n",
       "4                0  \n",
       "...            ...  \n",
       "38053            0  \n",
       "38054            1  \n",
       "38055            0  \n",
       "38056            1  \n",
       "38057            1  \n",
       "\n",
       "[38058 rows x 16 columns]"
      ]
     },
     "execution_count": 6,
     "metadata": {},
     "output_type": "execute_result"
    }
   ],
   "source": [
    "df"
   ]
  },
  {
   "cell_type": "code",
   "execution_count": 7,
   "metadata": {},
   "outputs": [
    {
     "data": {
      "text/plain": [
       "balance_time               0\n",
       "LTV_time                   0\n",
       "interest_rate_time         0\n",
       "hpi_time                   0\n",
       "gdp_time                   0\n",
       "uer_time                   0\n",
       "REtype_CO_orig_time        0\n",
       "REtype_PU_orig_time        0\n",
       "REtype_SF_orig_time        0\n",
       "investor_orig_time         0\n",
       "balance_orig_time          0\n",
       "FICO_orig_time             0\n",
       "LTV_orig_time              0\n",
       "Interest_Rate_orig_time    0\n",
       "hpi_orig_time              0\n",
       "status_time                0\n",
       "dtype: int64"
      ]
     },
     "execution_count": 7,
     "metadata": {},
     "output_type": "execute_result"
    }
   ],
   "source": [
    "df.isna().sum()"
   ]
  },
  {
   "cell_type": "code",
   "execution_count": null,
   "metadata": {},
   "outputs": [],
   "source": []
  },
  {
   "cell_type": "code",
   "execution_count": 8,
   "metadata": {},
   "outputs": [],
   "source": [
    "# Split the outcome and predictor variables\n",
    "y = df['status_time']\n",
    "X = df.drop(\"status_time\", axis=1)"
   ]
  },
  {
   "cell_type": "code",
   "execution_count": 9,
   "metadata": {},
   "outputs": [
    {
     "data": {
      "text/plain": [
       "balance_time               float64\n",
       "LTV_time                   float64\n",
       "interest_rate_time         float64\n",
       "hpi_time                   float64\n",
       "gdp_time                   float64\n",
       "uer_time                   float64\n",
       "REtype_CO_orig_time          int64\n",
       "REtype_PU_orig_time          int64\n",
       "REtype_SF_orig_time          int64\n",
       "investor_orig_time           int64\n",
       "balance_orig_time          float64\n",
       "FICO_orig_time               int64\n",
       "LTV_orig_time              float64\n",
       "Interest_Rate_orig_time    float64\n",
       "hpi_orig_time              float64\n",
       "status_time                  int64\n",
       "dtype: object"
      ]
     },
     "execution_count": 9,
     "metadata": {},
     "output_type": "execute_result"
    }
   ],
   "source": [
    "df.dtypes"
   ]
  },
  {
   "cell_type": "code",
   "execution_count": 10,
   "metadata": {},
   "outputs": [
    {
     "data": {
      "text/plain": [
       "balance_time               float64\n",
       "LTV_time                   float64\n",
       "interest_rate_time         float64\n",
       "hpi_time                   float64\n",
       "gdp_time                   float64\n",
       "uer_time                   float64\n",
       "REtype_CO_orig_time          int64\n",
       "REtype_PU_orig_time          int64\n",
       "REtype_SF_orig_time          int64\n",
       "investor_orig_time           int64\n",
       "balance_orig_time          float64\n",
       "FICO_orig_time               int64\n",
       "LTV_orig_time              float64\n",
       "Interest_Rate_orig_time    float64\n",
       "hpi_orig_time              float64\n",
       "dtype: object"
      ]
     },
     "execution_count": 10,
     "metadata": {},
     "output_type": "execute_result"
    }
   ],
   "source": [
    "X.dtypes"
   ]
  },
  {
   "cell_type": "code",
   "execution_count": 11,
   "metadata": {},
   "outputs": [
    {
     "data": {
      "text/html": [
       "<div>\n",
       "<style scoped>\n",
       "    .dataframe tbody tr th:only-of-type {\n",
       "        vertical-align: middle;\n",
       "    }\n",
       "\n",
       "    .dataframe tbody tr th {\n",
       "        vertical-align: top;\n",
       "    }\n",
       "\n",
       "    .dataframe thead th {\n",
       "        text-align: right;\n",
       "    }\n",
       "</style>\n",
       "<table border=\"1\" class=\"dataframe\">\n",
       "  <thead>\n",
       "    <tr style=\"text-align: right;\">\n",
       "      <th></th>\n",
       "      <th>balance_time</th>\n",
       "      <th>LTV_time</th>\n",
       "      <th>interest_rate_time</th>\n",
       "      <th>hpi_time</th>\n",
       "      <th>gdp_time</th>\n",
       "      <th>uer_time</th>\n",
       "      <th>REtype_CO_orig_time</th>\n",
       "      <th>REtype_PU_orig_time</th>\n",
       "      <th>REtype_SF_orig_time</th>\n",
       "      <th>investor_orig_time</th>\n",
       "      <th>balance_orig_time</th>\n",
       "      <th>FICO_orig_time</th>\n",
       "      <th>LTV_orig_time</th>\n",
       "      <th>Interest_Rate_orig_time</th>\n",
       "      <th>hpi_orig_time</th>\n",
       "    </tr>\n",
       "  </thead>\n",
       "  <tbody>\n",
       "    <tr>\n",
       "      <td>0</td>\n",
       "      <td>41303.42</td>\n",
       "      <td>24.498336</td>\n",
       "      <td>9.200</td>\n",
       "      <td>226.29</td>\n",
       "      <td>2.899137</td>\n",
       "      <td>4.7</td>\n",
       "      <td>0</td>\n",
       "      <td>0</td>\n",
       "      <td>1</td>\n",
       "      <td>0</td>\n",
       "      <td>45000.0</td>\n",
       "      <td>715</td>\n",
       "      <td>69.4</td>\n",
       "      <td>9.200</td>\n",
       "      <td>87.03</td>\n",
       "    </tr>\n",
       "    <tr>\n",
       "      <td>1</td>\n",
       "      <td>105826.38</td>\n",
       "      <td>65.231343</td>\n",
       "      <td>7.680</td>\n",
       "      <td>226.29</td>\n",
       "      <td>2.899137</td>\n",
       "      <td>4.7</td>\n",
       "      <td>0</td>\n",
       "      <td>0</td>\n",
       "      <td>1</td>\n",
       "      <td>0</td>\n",
       "      <td>107200.0</td>\n",
       "      <td>558</td>\n",
       "      <td>80.0</td>\n",
       "      <td>7.680</td>\n",
       "      <td>186.91</td>\n",
       "    </tr>\n",
       "    <tr>\n",
       "      <td>2</td>\n",
       "      <td>44866.18</td>\n",
       "      <td>30.551659</td>\n",
       "      <td>10.500</td>\n",
       "      <td>226.29</td>\n",
       "      <td>2.899137</td>\n",
       "      <td>4.7</td>\n",
       "      <td>0</td>\n",
       "      <td>0</td>\n",
       "      <td>1</td>\n",
       "      <td>0</td>\n",
       "      <td>48600.0</td>\n",
       "      <td>680</td>\n",
       "      <td>83.6</td>\n",
       "      <td>8.750</td>\n",
       "      <td>89.58</td>\n",
       "    </tr>\n",
       "    <tr>\n",
       "      <td>3</td>\n",
       "      <td>52295.07</td>\n",
       "      <td>65.446133</td>\n",
       "      <td>9.155</td>\n",
       "      <td>226.29</td>\n",
       "      <td>2.899137</td>\n",
       "      <td>4.7</td>\n",
       "      <td>0</td>\n",
       "      <td>0</td>\n",
       "      <td>1</td>\n",
       "      <td>0</td>\n",
       "      <td>52800.0</td>\n",
       "      <td>527</td>\n",
       "      <td>80.0</td>\n",
       "      <td>9.155</td>\n",
       "      <td>186.91</td>\n",
       "    </tr>\n",
       "    <tr>\n",
       "      <td>4</td>\n",
       "      <td>209058.33</td>\n",
       "      <td>66.733446</td>\n",
       "      <td>6.580</td>\n",
       "      <td>226.29</td>\n",
       "      <td>2.899137</td>\n",
       "      <td>4.7</td>\n",
       "      <td>0</td>\n",
       "      <td>0</td>\n",
       "      <td>1</td>\n",
       "      <td>0</td>\n",
       "      <td>212000.0</td>\n",
       "      <td>670</td>\n",
       "      <td>80.0</td>\n",
       "      <td>6.580</td>\n",
       "      <td>191.42</td>\n",
       "    </tr>\n",
       "  </tbody>\n",
       "</table>\n",
       "</div>"
      ],
      "text/plain": [
       "   balance_time   LTV_time  interest_rate_time  hpi_time  gdp_time  uer_time  \\\n",
       "0      41303.42  24.498336               9.200    226.29  2.899137       4.7   \n",
       "1     105826.38  65.231343               7.680    226.29  2.899137       4.7   \n",
       "2      44866.18  30.551659              10.500    226.29  2.899137       4.7   \n",
       "3      52295.07  65.446133               9.155    226.29  2.899137       4.7   \n",
       "4     209058.33  66.733446               6.580    226.29  2.899137       4.7   \n",
       "\n",
       "   REtype_CO_orig_time  REtype_PU_orig_time  REtype_SF_orig_time  \\\n",
       "0                    0                    0                    1   \n",
       "1                    0                    0                    1   \n",
       "2                    0                    0                    1   \n",
       "3                    0                    0                    1   \n",
       "4                    0                    0                    1   \n",
       "\n",
       "   investor_orig_time  balance_orig_time  FICO_orig_time  LTV_orig_time  \\\n",
       "0                   0            45000.0             715           69.4   \n",
       "1                   0           107200.0             558           80.0   \n",
       "2                   0            48600.0             680           83.6   \n",
       "3                   0            52800.0             527           80.0   \n",
       "4                   0           212000.0             670           80.0   \n",
       "\n",
       "   Interest_Rate_orig_time  hpi_orig_time  \n",
       "0                    9.200          87.03  \n",
       "1                    7.680         186.91  \n",
       "2                    8.750          89.58  \n",
       "3                    9.155         186.91  \n",
       "4                    6.580         191.42  "
      ]
     },
     "execution_count": 11,
     "metadata": {},
     "output_type": "execute_result"
    }
   ],
   "source": [
    "# Create dummy variables\n",
    "data = pd.get_dummies(X)\n",
    "data.head()"
   ]
  },
  {
   "cell_type": "code",
   "execution_count": 12,
   "metadata": {},
   "outputs": [
    {
     "data": {
      "text/html": [
       "<div>\n",
       "<style scoped>\n",
       "    .dataframe tbody tr th:only-of-type {\n",
       "        vertical-align: middle;\n",
       "    }\n",
       "\n",
       "    .dataframe tbody tr th {\n",
       "        vertical-align: top;\n",
       "    }\n",
       "\n",
       "    .dataframe thead th {\n",
       "        text-align: right;\n",
       "    }\n",
       "</style>\n",
       "<table border=\"1\" class=\"dataframe\">\n",
       "  <thead>\n",
       "    <tr style=\"text-align: right;\">\n",
       "      <th></th>\n",
       "      <th>balance_time</th>\n",
       "      <th>LTV_time</th>\n",
       "      <th>interest_rate_time</th>\n",
       "      <th>hpi_time</th>\n",
       "      <th>gdp_time</th>\n",
       "      <th>uer_time</th>\n",
       "      <th>REtype_CO_orig_time</th>\n",
       "      <th>REtype_PU_orig_time</th>\n",
       "      <th>REtype_SF_orig_time</th>\n",
       "      <th>investor_orig_time</th>\n",
       "      <th>balance_orig_time</th>\n",
       "      <th>FICO_orig_time</th>\n",
       "      <th>LTV_orig_time</th>\n",
       "      <th>Interest_Rate_orig_time</th>\n",
       "      <th>hpi_orig_time</th>\n",
       "    </tr>\n",
       "  </thead>\n",
       "  <tbody>\n",
       "    <tr>\n",
       "      <td>0</td>\n",
       "      <td>41303.42</td>\n",
       "      <td>24.498336</td>\n",
       "      <td>9.200</td>\n",
       "      <td>226.29</td>\n",
       "      <td>2.899137</td>\n",
       "      <td>4.7</td>\n",
       "      <td>0</td>\n",
       "      <td>0</td>\n",
       "      <td>1</td>\n",
       "      <td>0</td>\n",
       "      <td>45000.0</td>\n",
       "      <td>715</td>\n",
       "      <td>69.4</td>\n",
       "      <td>9.200</td>\n",
       "      <td>87.03</td>\n",
       "    </tr>\n",
       "    <tr>\n",
       "      <td>1</td>\n",
       "      <td>105826.38</td>\n",
       "      <td>65.231343</td>\n",
       "      <td>7.680</td>\n",
       "      <td>226.29</td>\n",
       "      <td>2.899137</td>\n",
       "      <td>4.7</td>\n",
       "      <td>0</td>\n",
       "      <td>0</td>\n",
       "      <td>1</td>\n",
       "      <td>0</td>\n",
       "      <td>107200.0</td>\n",
       "      <td>558</td>\n",
       "      <td>80.0</td>\n",
       "      <td>7.680</td>\n",
       "      <td>186.91</td>\n",
       "    </tr>\n",
       "    <tr>\n",
       "      <td>2</td>\n",
       "      <td>44866.18</td>\n",
       "      <td>30.551659</td>\n",
       "      <td>10.500</td>\n",
       "      <td>226.29</td>\n",
       "      <td>2.899137</td>\n",
       "      <td>4.7</td>\n",
       "      <td>0</td>\n",
       "      <td>0</td>\n",
       "      <td>1</td>\n",
       "      <td>0</td>\n",
       "      <td>48600.0</td>\n",
       "      <td>680</td>\n",
       "      <td>83.6</td>\n",
       "      <td>8.750</td>\n",
       "      <td>89.58</td>\n",
       "    </tr>\n",
       "    <tr>\n",
       "      <td>3</td>\n",
       "      <td>52295.07</td>\n",
       "      <td>65.446133</td>\n",
       "      <td>9.155</td>\n",
       "      <td>226.29</td>\n",
       "      <td>2.899137</td>\n",
       "      <td>4.7</td>\n",
       "      <td>0</td>\n",
       "      <td>0</td>\n",
       "      <td>1</td>\n",
       "      <td>0</td>\n",
       "      <td>52800.0</td>\n",
       "      <td>527</td>\n",
       "      <td>80.0</td>\n",
       "      <td>9.155</td>\n",
       "      <td>186.91</td>\n",
       "    </tr>\n",
       "    <tr>\n",
       "      <td>4</td>\n",
       "      <td>209058.33</td>\n",
       "      <td>66.733446</td>\n",
       "      <td>6.580</td>\n",
       "      <td>226.29</td>\n",
       "      <td>2.899137</td>\n",
       "      <td>4.7</td>\n",
       "      <td>0</td>\n",
       "      <td>0</td>\n",
       "      <td>1</td>\n",
       "      <td>0</td>\n",
       "      <td>212000.0</td>\n",
       "      <td>670</td>\n",
       "      <td>80.0</td>\n",
       "      <td>6.580</td>\n",
       "      <td>191.42</td>\n",
       "    </tr>\n",
       "    <tr>\n",
       "      <td>...</td>\n",
       "      <td>...</td>\n",
       "      <td>...</td>\n",
       "      <td>...</td>\n",
       "      <td>...</td>\n",
       "      <td>...</td>\n",
       "      <td>...</td>\n",
       "      <td>...</td>\n",
       "      <td>...</td>\n",
       "      <td>...</td>\n",
       "      <td>...</td>\n",
       "      <td>...</td>\n",
       "      <td>...</td>\n",
       "      <td>...</td>\n",
       "      <td>...</td>\n",
       "      <td>...</td>\n",
       "    </tr>\n",
       "    <tr>\n",
       "      <td>38053</td>\n",
       "      <td>93568.44</td>\n",
       "      <td>101.865855</td>\n",
       "      <td>6.875</td>\n",
       "      <td>161.13</td>\n",
       "      <td>1.081049</td>\n",
       "      <td>8.0</td>\n",
       "      <td>0</td>\n",
       "      <td>0</td>\n",
       "      <td>1</td>\n",
       "      <td>1</td>\n",
       "      <td>103200.0</td>\n",
       "      <td>726</td>\n",
       "      <td>80.0</td>\n",
       "      <td>6.875</td>\n",
       "      <td>226.29</td>\n",
       "    </tr>\n",
       "    <tr>\n",
       "      <td>38054</td>\n",
       "      <td>78004.35</td>\n",
       "      <td>101.199851</td>\n",
       "      <td>7.500</td>\n",
       "      <td>161.13</td>\n",
       "      <td>1.081049</td>\n",
       "      <td>8.0</td>\n",
       "      <td>0</td>\n",
       "      <td>0</td>\n",
       "      <td>1</td>\n",
       "      <td>1</td>\n",
       "      <td>86600.0</td>\n",
       "      <td>672</td>\n",
       "      <td>80.0</td>\n",
       "      <td>7.500</td>\n",
       "      <td>226.29</td>\n",
       "    </tr>\n",
       "    <tr>\n",
       "      <td>38055</td>\n",
       "      <td>180673.24</td>\n",
       "      <td>103.306966</td>\n",
       "      <td>7.500</td>\n",
       "      <td>161.13</td>\n",
       "      <td>1.081049</td>\n",
       "      <td>8.0</td>\n",
       "      <td>0</td>\n",
       "      <td>0</td>\n",
       "      <td>1</td>\n",
       "      <td>0</td>\n",
       "      <td>196000.0</td>\n",
       "      <td>708</td>\n",
       "      <td>79.8</td>\n",
       "      <td>7.500</td>\n",
       "      <td>226.29</td>\n",
       "    </tr>\n",
       "    <tr>\n",
       "      <td>38056</td>\n",
       "      <td>199721.99</td>\n",
       "      <td>62.251083</td>\n",
       "      <td>6.500</td>\n",
       "      <td>161.13</td>\n",
       "      <td>1.081049</td>\n",
       "      <td>8.0</td>\n",
       "      <td>0</td>\n",
       "      <td>0</td>\n",
       "      <td>0</td>\n",
       "      <td>0</td>\n",
       "      <td>232000.0</td>\n",
       "      <td>665</td>\n",
       "      <td>74.8</td>\n",
       "      <td>6.500</td>\n",
       "      <td>155.77</td>\n",
       "    </tr>\n",
       "    <tr>\n",
       "      <td>38057</td>\n",
       "      <td>128637.32</td>\n",
       "      <td>49.398391</td>\n",
       "      <td>6.400</td>\n",
       "      <td>161.13</td>\n",
       "      <td>1.081049</td>\n",
       "      <td>8.0</td>\n",
       "      <td>0</td>\n",
       "      <td>0</td>\n",
       "      <td>1</td>\n",
       "      <td>0</td>\n",
       "      <td>150000.0</td>\n",
       "      <td>588</td>\n",
       "      <td>62.0</td>\n",
       "      <td>6.400</td>\n",
       "      <td>149.70</td>\n",
       "    </tr>\n",
       "  </tbody>\n",
       "</table>\n",
       "<p>38058 rows × 15 columns</p>\n",
       "</div>"
      ],
      "text/plain": [
       "       balance_time    LTV_time  interest_rate_time  hpi_time  gdp_time  \\\n",
       "0          41303.42   24.498336               9.200    226.29  2.899137   \n",
       "1         105826.38   65.231343               7.680    226.29  2.899137   \n",
       "2          44866.18   30.551659              10.500    226.29  2.899137   \n",
       "3          52295.07   65.446133               9.155    226.29  2.899137   \n",
       "4         209058.33   66.733446               6.580    226.29  2.899137   \n",
       "...             ...         ...                 ...       ...       ...   \n",
       "38053      93568.44  101.865855               6.875    161.13  1.081049   \n",
       "38054      78004.35  101.199851               7.500    161.13  1.081049   \n",
       "38055     180673.24  103.306966               7.500    161.13  1.081049   \n",
       "38056     199721.99   62.251083               6.500    161.13  1.081049   \n",
       "38057     128637.32   49.398391               6.400    161.13  1.081049   \n",
       "\n",
       "       uer_time  REtype_CO_orig_time  REtype_PU_orig_time  \\\n",
       "0           4.7                    0                    0   \n",
       "1           4.7                    0                    0   \n",
       "2           4.7                    0                    0   \n",
       "3           4.7                    0                    0   \n",
       "4           4.7                    0                    0   \n",
       "...         ...                  ...                  ...   \n",
       "38053       8.0                    0                    0   \n",
       "38054       8.0                    0                    0   \n",
       "38055       8.0                    0                    0   \n",
       "38056       8.0                    0                    0   \n",
       "38057       8.0                    0                    0   \n",
       "\n",
       "       REtype_SF_orig_time  investor_orig_time  balance_orig_time  \\\n",
       "0                        1                   0            45000.0   \n",
       "1                        1                   0           107200.0   \n",
       "2                        1                   0            48600.0   \n",
       "3                        1                   0            52800.0   \n",
       "4                        1                   0           212000.0   \n",
       "...                    ...                 ...                ...   \n",
       "38053                    1                   1           103200.0   \n",
       "38054                    1                   1            86600.0   \n",
       "38055                    1                   0           196000.0   \n",
       "38056                    0                   0           232000.0   \n",
       "38057                    1                   0           150000.0   \n",
       "\n",
       "       FICO_orig_time  LTV_orig_time  Interest_Rate_orig_time  hpi_orig_time  \n",
       "0                 715           69.4                    9.200          87.03  \n",
       "1                 558           80.0                    7.680         186.91  \n",
       "2                 680           83.6                    8.750          89.58  \n",
       "3                 527           80.0                    9.155         186.91  \n",
       "4                 670           80.0                    6.580         191.42  \n",
       "...               ...            ...                      ...            ...  \n",
       "38053             726           80.0                    6.875         226.29  \n",
       "38054             672           80.0                    7.500         226.29  \n",
       "38055             708           79.8                    7.500         226.29  \n",
       "38056             665           74.8                    6.500         155.77  \n",
       "38057             588           62.0                    6.400         149.70  \n",
       "\n",
       "[38058 rows x 15 columns]"
      ]
     },
     "execution_count": 12,
     "metadata": {},
     "output_type": "execute_result"
    }
   ],
   "source": [
    "data"
   ]
  },
  {
   "cell_type": "code",
   "execution_count": 45,
   "metadata": {},
   "outputs": [],
   "source": [
    "data_train, data_test, target_train, target_test = train_test_split(data, y, \n",
    "                                                                    test_size = 0.25, random_state=123)"
   ]
  },
  {
   "cell_type": "code",
   "execution_count": null,
   "metadata": {},
   "outputs": [],
   "source": []
  },
  {
   "cell_type": "code",
   "execution_count": 14,
   "metadata": {},
   "outputs": [
    {
     "data": {
      "text/plain": [
       "DecisionTreeClassifier(class_weight=None, criterion='gini', max_depth=5,\n",
       "                       max_features=None, max_leaf_nodes=None,\n",
       "                       min_impurity_decrease=0.0, min_impurity_split=None,\n",
       "                       min_samples_leaf=1, min_samples_split=2,\n",
       "                       min_weight_fraction_leaf=0.0, presort=False,\n",
       "                       random_state=None, splitter='best')"
      ]
     },
     "execution_count": 14,
     "metadata": {},
     "output_type": "execute_result"
    }
   ],
   "source": [
    "# Instantiate and fit a DecisionTreeClassifier\n",
    "tree_clf = DecisionTreeClassifier(criterion='gini', max_depth=5) \n",
    "tree_clf.fit(data_train, target_train)"
   ]
  },
  {
   "cell_type": "code",
   "execution_count": 15,
   "metadata": {},
   "outputs": [
    {
     "data": {
      "text/plain": [
       "array([5.59186612e-04, 3.66218323e-02, 1.04421140e-01, 1.17486816e-02,\n",
       "       4.39681877e-02, 4.09270180e-02, 0.00000000e+00, 0.00000000e+00,\n",
       "       0.00000000e+00, 0.00000000e+00, 3.25544793e-02, 6.89859745e-02,\n",
       "       1.57206117e-02, 0.00000000e+00, 6.44492889e-01])"
      ]
     },
     "execution_count": 15,
     "metadata": {},
     "output_type": "execute_result"
    }
   ],
   "source": [
    "# Feature importance\n",
    "tree_clf.feature_importances_"
   ]
  },
  {
   "cell_type": "code",
   "execution_count": 16,
   "metadata": {},
   "outputs": [
    {
     "data": {
      "image/png": "[encoded data removed]",
      "text/plain": [
       "<Figure size 576x576 with 1 Axes>"
      ]
     },
     "metadata": {
      "needs_background": "light"
     },
     "output_type": "display_data"
    }
   ],
   "source": [
    "def plot_feature_importances(model):\n",
    "    n_features = data_train.shape[1]\n",
    "    plt.figure(figsize=(8,8))\n",
    "    plt.barh(range(n_features), model.feature_importances_, align='center') \n",
    "    plt.yticks(np.arange(n_features), data_train.columns.values) \n",
    "    plt.xlabel('Feature importance')\n",
    "    plt.ylabel('Feature')\n",
    "\n",
    "plot_feature_importances(tree_clf)"
   ]
  },
  {
   "cell_type": "code",
   "execution_count": 17,
   "metadata": {},
   "outputs": [
    {
     "name": "stdout",
     "output_type": "stream",
     "text": [
      "[[2212 1449]\n",
      " [1101 4753]]\n",
      "              precision    recall  f1-score   support\n",
      "\n",
      "           0       0.67      0.60      0.63      3661\n",
      "           1       0.77      0.81      0.79      5854\n",
      "\n",
      "    accuracy                           0.73      9515\n",
      "   macro avg       0.72      0.71      0.71      9515\n",
      "weighted avg       0.73      0.73      0.73      9515\n",
      "\n"
     ]
    }
   ],
   "source": [
    "# Test set predictions\n",
    "pred = tree_clf.predict(data_test)\n",
    "\n",
    "# Confusion matrix and classification report\n",
    "print(confusion_matrix(target_test, pred))\n",
    "print(classification_report(target_test, pred))"
   ]
  },
  {
   "cell_type": "code",
   "execution_count": 18,
   "metadata": {},
   "outputs": [
    {
     "name": "stdout",
     "output_type": "stream",
     "text": [
      "Testing Accuracy for Decision Tree Classifier: 73.2%\n"
     ]
    }
   ],
   "source": [
    "print(\"Testing Accuracy for Decision Tree Classifier: {:.4}%\".format(accuracy_score(target_test, pred) * 100))"
   ]
  },
  {
   "cell_type": "code",
   "execution_count": null,
   "metadata": {},
   "outputs": [],
   "source": []
  },
  {
   "cell_type": "code",
   "execution_count": 19,
   "metadata": {},
   "outputs": [],
   "source": [
    "# Instantiate a BaggingClassifier\n",
    "bagged_tree =  BaggingClassifier(DecisionTreeClassifier(criterion='gini', max_depth=5), \n",
    "                                 n_estimators=20)"
   ]
  },
  {
   "cell_type": "code",
   "execution_count": 20,
   "metadata": {},
   "outputs": [
    {
     "data": {
      "text/plain": [
       "BaggingClassifier(base_estimator=DecisionTreeClassifier(class_weight=None,\n",
       "                                                        criterion='gini',\n",
       "                                                        max_depth=5,\n",
       "                                                        max_features=None,\n",
       "                                                        max_leaf_nodes=None,\n",
       "                                                        min_impurity_decrease=0.0,\n",
       "                                                        min_impurity_split=None,\n",
       "                                                        min_samples_leaf=1,\n",
       "                                                        min_samples_split=2,\n",
       "                                                        min_weight_fraction_leaf=0.0,\n",
       "                                                        presort=False,\n",
       "                                                        random_state=None,\n",
       "                                                        splitter='best'),\n",
       "                  bootstrap=True, bootstrap_features=False, max_features=1.0,\n",
       "                  max_samples=1.0, n_estimators=20, n_jobs=None,\n",
       "                  oob_score=False, random_state=None, verbose=0,\n",
       "                  warm_start=False)"
      ]
     },
     "execution_count": 20,
     "metadata": {},
     "output_type": "execute_result"
    }
   ],
   "source": [
    "# Fit to the training data\n",
    "bagged_tree.fit(data_train, target_train)"
   ]
  },
  {
   "cell_type": "code",
   "execution_count": 21,
   "metadata": {},
   "outputs": [
    {
     "data": {
      "text/plain": [
       "0.7393056090810356"
      ]
     },
     "execution_count": 21,
     "metadata": {},
     "output_type": "execute_result"
    }
   ],
   "source": [
    "# Training accuracy score\n",
    "bagged_tree.score(data_train, target_train)"
   ]
  },
  {
   "cell_type": "code",
   "execution_count": 22,
   "metadata": {},
   "outputs": [
    {
     "data": {
      "text/plain": [
       "0.7375722543352601"
      ]
     },
     "execution_count": 22,
     "metadata": {},
     "output_type": "execute_result"
    }
   ],
   "source": [
    "# Test accuracy score\n",
    "bagged_tree.score(data_test, target_test)"
   ]
  },
  {
   "cell_type": "code",
   "execution_count": null,
   "metadata": {},
   "outputs": [],
   "source": []
  },
  {
   "cell_type": "code",
   "execution_count": 23,
   "metadata": {},
   "outputs": [
    {
     "data": {
      "text/plain": [
       "RandomForestClassifier(bootstrap=True, class_weight=None, criterion='gini',\n",
       "                       max_depth=5, max_features='auto', max_leaf_nodes=None,\n",
       "                       min_impurity_decrease=0.0, min_impurity_split=None,\n",
       "                       min_samples_leaf=1, min_samples_split=2,\n",
       "                       min_weight_fraction_leaf=0.0, n_estimators=100,\n",
       "                       n_jobs=None, oob_score=False, random_state=None,\n",
       "                       verbose=0, warm_start=False)"
      ]
     },
     "execution_count": 23,
     "metadata": {},
     "output_type": "execute_result"
    }
   ],
   "source": [
    "# Instantiate and fit a RandomForestClassifier\n",
    "forest = RandomForestClassifier(n_estimators=100, max_depth= 5)\n",
    "forest.fit(data_train, target_train)"
   ]
  },
  {
   "cell_type": "code",
   "execution_count": 24,
   "metadata": {},
   "outputs": [
    {
     "data": {
      "text/plain": [
       "0.7408471429071927"
      ]
     },
     "execution_count": 24,
     "metadata": {},
     "output_type": "execute_result"
    }
   ],
   "source": [
    "# Training accuracy score\n",
    "forest.score(data_train, target_train)"
   ]
  },
  {
   "cell_type": "code",
   "execution_count": 25,
   "metadata": {},
   "outputs": [
    {
     "data": {
      "text/plain": [
       "0.7375722543352601"
      ]
     },
     "execution_count": 25,
     "metadata": {},
     "output_type": "execute_result"
    }
   ],
   "source": [
    "# Test accuracy score\n",
    "forest.score(data_test, target_test)"
   ]
  },
  {
   "cell_type": "code",
   "execution_count": null,
   "metadata": {},
   "outputs": [],
   "source": []
  },
  {
   "cell_type": "code",
   "execution_count": 26,
   "metadata": {},
   "outputs": [
    {
     "data": {
      "image/png": "[encoded data removed]",
      "text/plain": [
       "<Figure size 576x576 with 1 Axes>"
      ]
     },
     "metadata": {
      "needs_background": "light"
     },
     "output_type": "display_data"
    }
   ],
   "source": [
    "plot_feature_importances(forest)"
   ]
  },
  {
   "cell_type": "code",
   "execution_count": 27,
   "metadata": {},
   "outputs": [
    {
     "data": {
      "text/plain": [
       "RandomForestClassifier(bootstrap=True, class_weight=None, criterion='gini',\n",
       "                       max_depth=2, max_features=10, max_leaf_nodes=None,\n",
       "                       min_impurity_decrease=0.0, min_impurity_split=None,\n",
       "                       min_samples_leaf=1, min_samples_split=2,\n",
       "                       min_weight_fraction_leaf=0.0, n_estimators=5,\n",
       "                       n_jobs=None, oob_score=False, random_state=None,\n",
       "                       verbose=0, warm_start=False)"
      ]
     },
     "execution_count": 27,
     "metadata": {},
     "output_type": "execute_result"
    }
   ],
   "source": [
    "# Instantiate and fit a RandomForestClassifier\n",
    "forest_2 = RandomForestClassifier(n_estimators = 5, max_features= 10, max_depth= 2)\n",
    "forest_2.fit(data_train, target_train)"
   ]
  },
  {
   "cell_type": "code",
   "execution_count": 28,
   "metadata": {},
   "outputs": [],
   "source": [
    "# First tree from forest_2\n",
    "rf_tree_1 = forest_2.estimators_[0]"
   ]
  },
  {
   "cell_type": "code",
   "execution_count": 29,
   "metadata": {},
   "outputs": [
    {
     "data": {
      "image/png": "[encoded data removed]",
      "text/plain": [
       "<Figure size 576x576 with 1 Axes>"
      ]
     },
     "metadata": {
      "needs_background": "light"
     },
     "output_type": "display_data"
    }
   ],
   "source": [
    "# Feature importance\n",
    "plot_feature_importances(rf_tree_1)"
   ]
  },
  {
   "cell_type": "code",
   "execution_count": 30,
   "metadata": {},
   "outputs": [],
   "source": [
    "# Second tree from forest_2\n",
    "rf_tree_2 = forest_2.estimators_[1]"
   ]
  },
  {
   "cell_type": "code",
   "execution_count": 31,
   "metadata": {},
   "outputs": [
    {
     "data": {
      "image/png": "[encoded data removed]",
      "text/plain": [
       "<Figure size 576x576 with 1 Axes>"
      ]
     },
     "metadata": {
      "needs_background": "light"
     },
     "output_type": "display_data"
    }
   ],
   "source": [
    "# Feature importance\n",
    "plot_feature_importances(rf_tree_2)"
   ]
  },
  {
   "cell_type": "code",
   "execution_count": null,
   "metadata": {},
   "outputs": [],
   "source": []
  },
  {
   "cell_type": "code",
   "execution_count": 32,
   "metadata": {},
   "outputs": [
    {
     "data": {
      "image/png": "[encoded data removed]",
      "text/plain": [
       "<Figure size 576x396 with 1 Axes>"
      ]
     },
     "metadata": {},
     "output_type": "display_data"
    },
    {
     "data": {
      "text/plain": [
       "<matplotlib.axes._subplots.AxesSubplot at 0x1a1c467590>"
      ]
     },
     "execution_count": 32,
     "metadata": {},
     "output_type": "execute_result"
    }
   ],
   "source": [
    "from yellowbrick.datasets import load_game\n",
    "from yellowbrick.target import ClassBalance\n",
    "\n",
    "# Load the classification dataset\n",
    "data_test, target_test = load_game()\n",
    "\n",
    "# Instantiate the visualizer\n",
    "visualizer = ClassBalance(labels=[ \"Default\", \"Payoff\"])\n",
    "\n",
    "visualizer.fit(y)        # Fit the data to the visualizer\n",
    "visualizer.show()        # Finalize and render the figure"
   ]
  },
  {
   "cell_type": "code",
   "execution_count": null,
   "metadata": {},
   "outputs": [],
   "source": []
  },
  {
   "cell_type": "code",
   "execution_count": 34,
   "metadata": {},
   "outputs": [],
   "source": [
    "from sklearn.model_selection import cross_val_score "
   ]
  },
  {
   "cell_type": "code",
   "execution_count": 43,
   "metadata": {},
   "outputs": [],
   "source": [
    "clf = RandomForestClassifier()"
   ]
  },
  {
   "cell_type": "code",
   "execution_count": 47,
   "metadata": {},
   "outputs": [
    {
     "name": "stdout",
     "output_type": "stream",
     "text": [
      "Mean Cross Validation Score: 72.14%\n"
     ]
    }
   ],
   "source": [
    "rf_cv_score = cross_val_score(forest_2, data_test, target_test, cv=3)\n",
    "mean_rf_cv_score = np.mean(rf_cv_score)\n",
    "\n",
    "print(f\"Mean Cross Validation Score: {mean_rf_cv_score :.2%}\")"
   ]
  },
  {
   "cell_type": "code",
   "execution_count": null,
   "metadata": {},
   "outputs": [],
   "source": []
  },
  {
   "cell_type": "code",
   "execution_count": null,
   "metadata": {},
   "outputs": [],
   "source": []
  },
  {
   "cell_type": "code",
   "execution_count": 68,
   "metadata": {},
   "outputs": [
    {
     "name": "stdout",
     "output_type": "stream",
     "text": [
      "[[2212 1101]\n",
      " [1449 4753]]\n"
     ]
    },
    {
     "data": {
      "image/png": "[encoded data removed]",
      "text/plain": [
       "<Figure size 432x288 with 2 Axes>"
      ]
     },
     "metadata": {
      "needs_background": "light"
     },
     "output_type": "display_data"
    }
   ],
   "source": [
    "import numpy as np\n",
    "import itertools\n",
    "import matplotlib.pyplot as plt\n",
    "%matplotlib inline\n",
    "\n",
    "from sklearn.metrics import confusion_matrix\n",
    "\n",
    "\n",
    "\n",
    "cnf_matrix = confusion_matrix(pred, target_test)\n",
    "\n",
    "print(cnf_matrix)\n",
    "\n",
    "# Create the basic matrix\n",
    "plt.imshow(cnf_matrix,  cmap=plt.cm.Blues) \n",
    "\n",
    "# Add title and axis labels\n",
    "plt.title('Confusion Matrix')\n",
    "plt.ylabel('True label')\n",
    "plt.xlabel('Predicted label')\n",
    "\n",
    "# Add appropriate axis scales\n",
    "class_names = set(y) # Get class labels to add to matrix\n",
    "tick_marks = np.arange(len(class_names))\n",
    "plt.xticks(tick_marks, class_names, rotation=45)\n",
    "plt.yticks(tick_marks, class_names)\n",
    "\n",
    "# Add labels to each cell\n",
    "thresh = cnf_matrix.max() / 2. # Used for text coloring below\n",
    "# Here we iterate through the confusion matrix and append labels to our visualization \n",
    "for i, j in itertools.product(range(cnf_matrix.shape[0]), range(cnf_matrix.shape[1])):\n",
    "        plt.text(j, i, cnf_matrix[i, j],\n",
    "                 horizontalalignment='center',\n",
    "                 color='white' if cnf_matrix[i, j] > thresh else 'black')\n",
    "\n",
    "# Add a legend\n",
    "plt.colorbar()\n",
    "plt.show()"
   ]
  },
  {
   "cell_type": "code",
   "execution_count": 69,
   "metadata": {},
   "outputs": [],
   "source": [
    "def plot_confusion_matrix(cm, classes,\n",
    "                          title='Confusion matrix',\n",
    "                          cmap=plt.cm.Blues):\n",
    "    # Pseudocode/Outline:\n",
    "    # Print the confusion matrix (optional)\n",
    "    # Create the basic matrix\n",
    "    # Add title and axis labels\n",
    "    # Add appropriate axis scales\n",
    "    # Add labels to each cell\n",
    "    # Add a legend\n",
    "    \n",
    "    print(cm)\n",
    "\n",
    "    plt.imshow(cm, cmap=cmap)\n",
    "    \n",
    "    # Add title and axis labels \n",
    "    plt.title('Confusion Matrix') \n",
    "    plt.ylabel('True label') \n",
    "    plt.xlabel('Predicted label')\n",
    "    \n",
    "    # Add appropriate axis scales\n",
    "    tick_marks = np.arange(len(classes))\n",
    "    plt.xticks(tick_marks, classes, rotation=45)\n",
    "    plt.yticks(tick_marks, classes)\n",
    "    \n",
    "    # Text formatting\n",
    "    fmt = '.2f' if normalize else 'd'\n",
    "    # Add labels to each cell\n",
    "    thresh = cm.max() / 2.\n",
    "    # Here we iterate through the confusion matrix and append labels to our visualization \n",
    "    for i, j in itertools.product(range(cm.shape[0]), range(cm.shape[1])):\n",
    "        plt.text(j, i, format(cm[i, j], fmt),\n",
    "                 horizontalalignment='center',\n",
    "                 color='white' if cm[i, j] > thresh else 'black')\n",
    "    \n",
    "    # Add a legend\n",
    "    plt.colorbar()\n",
    "    plt.show() "
   ]
  },
  {
   "cell_type": "code",
   "execution_count": 70,
   "metadata": {},
   "outputs": [],
   "source": [
    "def plot_confusion_matrix(cm, classes,\n",
    "                          normalize=False,\n",
    "                          title='Confusion matrix',\n",
    "                          cmap=plt.cm.Blues):\n",
    "    \n",
    "    # Check if normalize is set to True\n",
    "    # If so, normalize the raw confusion matrix before visualizing\n",
    "    if normalize:\n",
    "        cm = cm.astype('float') / cm.sum(axis=1)[:, np.newaxis]\n",
    "        print(\"Normalized confusion matrix\")\n",
    "    else:\n",
    "        print('Confusion matrix, without normalization')\n",
    "\n",
    "    print(cm)\n",
    "\n",
    "    plt.imshow(cm, cmap=cmap)\n",
    "    \n",
    "    # Add title and axis labels \n",
    "    plt.title('Confusion Matrix') \n",
    "    plt.ylabel('True label') \n",
    "    plt.xlabel('Predicted label')\n",
    "    \n",
    "    # Add appropriate axis scales\n",
    "    tick_marks = np.arange(len(classes))\n",
    "    plt.xticks(tick_marks, classes, rotation=45)\n",
    "    plt.yticks(tick_marks, classes)\n",
    "    \n",
    "    # Text formatting\n",
    "    fmt = '.2f' if normalize else 'd'\n",
    "    # Add labels to each cell\n",
    "    thresh = cm.max() / 2.\n",
    "    # Here we iterate through the confusion matrix and append labels to our visualization \n",
    "    for i, j in itertools.product(range(cm.shape[0]), range(cm.shape[1])):\n",
    "        plt.text(j, i, format(cm[i, j], fmt),\n",
    "                 horizontalalignment='center',\n",
    "                 color='white' if cm[i, j] > thresh else 'black')\n",
    "    \n",
    "    # Add a legend\n",
    "    plt.colorbar()\n",
    "    plt.show() "
   ]
  },
  {
   "cell_type": "code",
   "execution_count": 71,
   "metadata": {},
   "outputs": [
    {
     "name": "stdout",
     "output_type": "stream",
     "text": [
      "Normalized confusion matrix\n",
      "[[0.6676728  0.3323272 ]\n",
      " [0.23363431 0.76636569]]\n"
     ]
    },
    {
     "data": {
      "image/png": "[encoded data removed]",
      "text/plain": [
       "<Figure size 432x288 with 2 Axes>"
      ]
     },
     "metadata": {
      "needs_background": "light"
     },
     "output_type": "display_data"
    }
   ],
   "source": [
    "# Plot a normalized confusion matrix\n",
    "plot_confusion_matrix(cnf_matrix, classes=class_names, normalize=True,\n",
    "                      title='Normalized confusion matrix')"
   ]
  },
  {
   "cell_type": "code",
   "execution_count": null,
   "metadata": {},
   "outputs": [],
   "source": []
  },
  {
   "cell_type": "code",
   "execution_count": null,
   "metadata": {},
   "outputs": [],
   "source": []
  },
  {
   "cell_type": "code",
   "execution_count": null,
   "metadata": {},
   "outputs": [],
   "source": []
  },
  {
   "cell_type": "code",
   "execution_count": null,
   "metadata": {},
   "outputs": [],
   "source": [
    "confusion matrix\n",
    "cross validate\n",
    "no gridsearch\n",
    "check balance"
   ]
  }
 ],
 "metadata": {
  "kernelspec": {
   "display_name": "Python 3",
   "language": "python",
   "name": "python3"
  },
  "language_info": {
   "codemirror_mode": {
    "name": "ipython",
    "version": 3
   },
   "file_extension": ".py",
   "mimetype": "text/x-python",
   "name": "python",
   "nbconvert_exporter": "python",
   "pygments_lexer": "ipython3",
   "version": "3.7.4"
  }
 },
 "nbformat": 4,
 "nbformat_minor": 2
}
